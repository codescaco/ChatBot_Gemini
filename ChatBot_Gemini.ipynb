{
  "cells": [
    {
      "cell_type": "markdown",
      "metadata": {
        "id": "view-in-github",
        "colab_type": "text"
      },
      "source": [
        "<a href=\"https://colab.research.google.com/github/codescaco/ChatBot_Gemini/blob/main/ChatBot_Gemini.ipynb\" target=\"_parent\"><img src=\"https://colab.research.google.com/assets/colab-badge.svg\" alt=\"Open In Colab\"/></a>"
      ]
    },
    {
      "cell_type": "markdown",
      "source": [
        "# 🤖 ChatBot integrado com o Google Gemini ✨"
      ],
      "metadata": {
        "id": "LumSlq9QtCy1"
      }
    },
    {
      "cell_type": "markdown",
      "source": [
        "##1 - Instalando o SDK do Google 🌐"
      ],
      "metadata": {
        "id": "YZmc4BlkrxoW"
      }
    },
    {
      "cell_type": "code",
      "execution_count": null,
      "metadata": {
        "id": "nFQLKQ6hfXch"
      },
      "outputs": [],
      "source": [
        "!pip install -q -U google-generativeai"
      ]
    },
    {
      "cell_type": "markdown",
      "source": [
        "##2 - Importação do Modelo GenAI e Configuração da API Key 🛡"
      ],
      "metadata": {
        "id": "P3cLelLyr6NH"
      }
    },
    {
      "cell_type": "code",
      "execution_count": null,
      "metadata": {
        "id": "IthzwfnAfcsi"
      },
      "outputs": [],
      "source": [
        "import google.generativeai as genai\n",
        "\n",
        "GOOGLE_API_KEY=\"INSIRA AQUI SUA API KEY DO GEMINI\"\n",
        "genai.configure(api_key=GOOGLE_API_KEY)"
      ]
    },
    {
      "cell_type": "markdown",
      "source": [
        "##3 - Listando os modelos disponíveis do Gemini ☑"
      ],
      "metadata": {
        "id": "ADuzvym1svoA"
      }
    },
    {
      "cell_type": "code",
      "execution_count": null,
      "metadata": {
        "colab": {
          "base_uri": "https://localhost:8080/"
        },
        "id": "iD3ihugymWBt",
        "outputId": "051ff37b-6484-40aa-a75f-57fbf4780634"
      },
      "outputs": [
        {
          "output_type": "stream",
          "name": "stdout",
          "text": [
            "models/gemini-1.0-pro\n",
            "models/gemini-1.0-pro-001\n",
            "models/gemini-1.0-pro-latest\n",
            "models/gemini-1.0-pro-vision-latest\n",
            "models/gemini-1.5-pro-latest\n",
            "models/gemini-pro\n",
            "models/gemini-pro-vision\n"
          ]
        }
      ],
      "source": [
        "for m in genai.list_models():\n",
        "  if 'generateContent' in m.supported_generation_methods:\n",
        "    print(m.name)"
      ]
    },
    {
      "cell_type": "markdown",
      "source": [
        "##4 - Configuração dos Parâmetros de Resposta 🖊"
      ],
      "metadata": {
        "id": "Fno64IgEuP8s"
      }
    },
    {
      "cell_type": "code",
      "execution_count": null,
      "metadata": {
        "id": "O1ochaeyDn_o"
      },
      "outputs": [],
      "source": [
        "generation_config = {\n",
        "  \"candidate_count\": 1,\n",
        "  \"temperature\": 0.5,\n",
        "}"
      ]
    },
    {
      "cell_type": "markdown",
      "source": [
        "Configuração dos \"Safety Settings\" 🛡"
      ],
      "metadata": {
        "id": "xWHwr9ggun6S"
      }
    },
    {
      "cell_type": "code",
      "execution_count": null,
      "metadata": {
        "id": "jwBv7DofDofw"
      },
      "outputs": [],
      "source": [
        "safety_settings={\n",
        "    'HATE': 'BLOCK_NONE',\n",
        "    'HARASSMENT': 'BLOCK_NONE',\n",
        "    'SEXUAL' : 'BLOCK_NONE',\n",
        "    'DANGEROUS' : 'BLOCK_NONE'\n",
        "    }"
      ]
    },
    {
      "cell_type": "markdown",
      "source": [
        "##5 - Inicialização do Modelo ⏯"
      ],
      "metadata": {
        "id": "kUhhWgfHv1Sm"
      }
    },
    {
      "cell_type": "code",
      "execution_count": null,
      "metadata": {
        "id": "NIiSs1R5mVJE"
      },
      "outputs": [],
      "source": [
        "model = genai.GenerativeModel(model_name='gemini-1.0-pro',\n",
        "                                  generation_config=generation_config,\n",
        "                                  safety_settings=safety_settings,)"
      ]
    },
    {
      "cell_type": "markdown",
      "source": [
        "Teste simples do modelo ✔"
      ],
      "metadata": {
        "id": "u-wpYLBmyhB9"
      }
    },
    {
      "cell_type": "code",
      "execution_count": null,
      "metadata": {
        "colab": {
          "base_uri": "https://localhost:8080/"
        },
        "id": "vrRjhT2rlrU_",
        "outputId": "7a63030a-7bea-4704-d42f-1a0098b48ddf"
      },
      "outputs": [
        {
          "output_type": "execute_result",
          "data": {
            "text/plain": [
              "'Google'"
            ],
            "application/vnd.google.colaboratory.intrinsic+json": {
              "type": "string"
            }
          },
          "metadata": {},
          "execution_count": 7
        }
      ],
      "source": [
        "response = model.generate_content(\"Que empresa criou o modelo de IA Gemini?\")\n",
        "response.text"
      ]
    },
    {
      "cell_type": "markdown",
      "source": [
        "#6 - Utilizando o ChatBot 🤖 ⌨"
      ],
      "metadata": {
        "id": "BBCBfZ3pzPIe"
      }
    },
    {
      "cell_type": "code",
      "execution_count": null,
      "metadata": {
        "id": "KpaQ6hm5f2_J"
      },
      "outputs": [],
      "source": [
        "chat = model.start_chat(history=[])\n",
        "\n",
        "prompt = input('Digite sua solicitação ou digite \"fim\" para encerrar o chat: ')\n",
        "\n",
        "while prompt != \"fim\":\n",
        "  response = chat.send_message(prompt)\n",
        "  print(\"Resposta:\", response.text, '\\n\\n')\n",
        "  prompt = input('Digite sua solicitação ou digite \"fim\" para encerrar o chat: ')"
      ]
    }
  ],
  "metadata": {
    "colab": {
      "provenance": [],
      "include_colab_link": true
    },
    "kernelspec": {
      "display_name": "Python 3",
      "name": "python3"
    },
    "language_info": {
      "name": "python"
    }
  },
  "nbformat": 4,
  "nbformat_minor": 0
}